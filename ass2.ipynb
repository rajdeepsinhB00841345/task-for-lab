{
  "nbformat": 4,
  "nbformat_minor": 0,
  "metadata": {
    "colab": {
      "name": "ass2.ipynb",
      "provenance": []
    },
    "kernelspec": {
      "name": "python3",
      "display_name": "Python 3"
    }
  },
  "cells": [
    {
      "cell_type": "code",
      "metadata": {
        "id": "GhmK2s9f1fHj",
        "colab_type": "code",
        "outputId": "b2921f38-48b4-4955-b909-24892e81a69b",
        "colab": {
          "base_uri": "https://localhost:8080/",
          "height": 34
        }
      },
      "source": [
        "import math\n",
        "\n",
        "def factorial(val1):\n",
        "  if(val1 == 0 or val1 == 1):\n",
        "    return 1\n",
        "  else:\n",
        "    return (val1 * factorial(val1 - 1))\n",
        "\n",
        "\n",
        "def value():\n",
        "  a = 2*math.sqrt(2)/9801\n",
        "  k = 0\n",
        "  calculation = (factorial(4 * k) * (1103 + (26390 * k))) / (((factorial(k)) ** 4) * (396 ** (4 * k)))\n",
        "  summation = calculation\n",
        "  while(calculation > ( 1 * math.exp(-15))):\n",
        "    k = k + 1\n",
        "    calculation = (factorial(4 * k) * (1103 + (26390 * k))) / (((factorial(k)) ** 4) * (396 ** (4 * k)))\n",
        "    summation = summation + calculation\n",
        "  final_result = 1 / (a * summation)\n",
        "  return final_result\n",
        "\n",
        "\n",
        "value()\n"
      ],
      "execution_count": 61,
      "outputs": [
        {
          "output_type": "execute_result",
          "data": {
            "text/plain": [
              "3.141592653589793"
            ]
          },
          "metadata": {
            "tags": []
          },
          "execution_count": 61
        }
      ]
    },
    {
      "cell_type": "code",
      "metadata": {
        "id": "W2VboK1q10f6",
        "colab_type": "code",
        "colab": {
          "base_uri": "https://localhost:8080/",
          "height": 170
        },
        "outputId": "caacd67e-3d79-4348-e387-8767d9be1634"
      },
      "source": [
        "Vegetable = \"poteto\"\n",
        "\n",
        "def revVegetable(val):\n",
        "\tnew_val = val[::-1]\n",
        "\tfor i in new_val:\n",
        "\t\tprint(i)\n",
        "\n",
        "\n",
        "revVegetable(\"dalhousie\")"
      ],
      "execution_count": 18,
      "outputs": [
        {
          "output_type": "stream",
          "text": [
            "e\n",
            "i\n",
            "s\n",
            "u\n",
            "o\n",
            "h\n",
            "l\n",
            "a\n",
            "d\n"
          ],
          "name": "stdout"
        }
      ]
    },
    {
      "cell_type": "code",
      "metadata": {
        "id": "31xzTRxV8UQ1",
        "colab_type": "code",
        "outputId": "daed2833-3d42-4ad1-98c7-09d6417660f2",
        "colab": {
          "base_uri": "https://localhost:8080/",
          "height": 34
        }
      },
      "source": [
        "word = \"banana\"\n",
        "word.count(\"a\")"
      ],
      "execution_count": 19,
      "outputs": [
        {
          "output_type": "execute_result",
          "data": {
            "text/plain": [
              "3"
            ]
          },
          "metadata": {
            "tags": []
          },
          "execution_count": 19
        }
      ]
    },
    {
      "cell_type": "code",
      "metadata": {
        "id": "_STuKBphM0ev",
        "colab_type": "code",
        "colab": {
          "base_uri": "https://localhost:8080/",
          "height": 34
        },
        "outputId": "610f28a7-4c41-451b-9309-aab8bce5f9bc"
      },
      "source": [
        "def is_palindrome(var1):\n",
        "  new_var = var1[::-1]\n",
        "  for i in range(len(var1)):\n",
        "    if(new_var[i] != var1[i]):\n",
        "      return False\n",
        "  return True\n",
        "\n",
        "\n",
        "\n",
        "is_palindrome(\"noon\")"
      ],
      "execution_count": 28,
      "outputs": [
        {
          "output_type": "execute_result",
          "data": {
            "text/plain": [
              "True"
            ]
          },
          "metadata": {
            "tags": []
          },
          "execution_count": 28
        }
      ]
    },
    {
      "cell_type": "code",
      "metadata": {
        "id": "gNajXS-gRQHA",
        "colab_type": "code",
        "colab": {
          "base_uri": "https://localhost:8080/",
          "height": 34
        },
        "outputId": "29d362a1-9db3-4e2c-e963-77b0fe2e1fd7"
      },
      "source": [
        "def has_no_e(var1):\n",
        "  if \"e\" in var1:\n",
        "    return False\n",
        "  else:\n",
        "    return True\n",
        "  \n",
        "\n",
        "has_no_e(\"dalhousie\")"
      ],
      "execution_count": 31,
      "outputs": [
        {
          "output_type": "execute_result",
          "data": {
            "text/plain": [
              "False"
            ]
          },
          "metadata": {
            "tags": []
          },
          "execution_count": 31
        }
      ]
    },
    {
      "cell_type": "code",
      "metadata": {
        "id": "BUpV3WfabBnC",
        "colab_type": "code",
        "colab": {
          "base_uri": "https://localhost:8080/",
          "height": 119
        },
        "outputId": "d5971489-076d-4081-a291-b1651acb2a2d"
      },
      "source": [
        "def has_no_e(var1):\n",
        "  counter1_with_e = 0\n",
        "  counter2_no_e = 0\n",
        "  for word in var1:\n",
        "    if \"e\" in word:\n",
        "      print(\"contains e\")\n",
        "      counter1_with_e = counter1_with_e + 1\n",
        "    else:\n",
        "      print(\"does not have e\")\n",
        "      counter2_no_e = counter2_no_e + 1\n",
        "  return counter2_no_e / (counter2_no_e + counter1_with_e) * 100\n",
        "  \n",
        "list_temp = [\"cat\", \"pet\" , \"plane\", \"university\", \"book\"]\n",
        "print(has_no_e(list_temp))\n"
      ],
      "execution_count": 50,
      "outputs": [
        {
          "output_type": "stream",
          "text": [
            "does not have e\n",
            "contains e\n",
            "contains e\n",
            "contains e\n",
            "does not have e\n",
            "40.0\n"
          ],
          "name": "stdout"
        }
      ]
    }
  ]
}