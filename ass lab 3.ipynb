{
 "cells": [
  {
   "cell_type": "code",
   "execution_count": 1,
   "metadata": {
    "tags": [
     "outputPrepend"
    ]
   },
   "outputs": [
    {
     "output_type": "stream",
     "name": "stdout",
     "text": ": 1, 'workbaskets\\n': 1, 'workbench\\n': 1, 'workbenches\\n': 1, 'workboat\\n': 1, 'workboats\\n': 1, 'workbook\\n': 1, 'workbooks\\n': 1, 'workbox\\n': 1, 'workboxes\\n': 1, 'workday\\n': 1, 'workdays\\n': 1, 'worked\\n': 1, 'worker\\n': 1, 'workers\\n': 1, 'workfolk\\n': 1, 'workhorse\\n': 1, 'workhorses\\n': 1, 'workhouse\\n': 1, 'workhouses\\n': 1, 'working\\n': 1, 'workingman\\n': 1, 'workingmen\\n': 1, 'workings\\n': 1, 'workless\\n': 1, 'workload\\n': 1, 'workloads\\n': 1, 'workman\\n': 1, 'workmanlike\\n': 1, 'workmanship\\n': 1, 'workmanships\\n': 1, 'workmen\\n': 1, 'workout\\n': 1, 'workouts\\n': 1, 'workroom\\n': 1, 'workrooms\\n': 1, 'works\\n': 1, 'worksheet\\n': 1, 'worksheets\\n': 1, 'workshop\\n': 1, 'workshops\\n': 1, 'workup\\n': 1, 'workups\\n': 1, 'workweek\\n': 1, 'workweeks\\n': 1, 'world\\n': 1, 'worldlier\\n': 1, 'worldliest\\n': 1, 'worldliness\\n': 1, 'worldlinesses\\n': 1, 'worldly\\n': 1, 'worlds\\n': 1, 'worldwide\\n': 1, 'worm\\n': 1, 'wormed\\n': 1, 'wormer\\n': 1, 'wormers\\n': 1, 'wormhole\\n': 1, 'wormholes\\n': 1, 'wormier\\n': 1, 'wormiest\\n': 1, 'wormil\\n': 1, 'wormils\\n': 1, 'worming\\n': 1, 'wormish\\n': 1, 'wormlike\\n': 1, 'wormroot\\n': 1, 'wormroots\\n': 1, 'worms\\n': 1, 'wormseed\\n': 1, 'wormseeds\\n': 1, 'wormwood\\n': 1, 'wormwoods\\n': 1, 'wormy\\n': 1, 'worn\\n': 1, 'wornness\\n': 1, 'wornnesses\\n': 1, 'worried\\n': 1, 'worrier\\n': 1, 'worriers\\n': 1, 'worries\\n': 1, 'worrisome\\n': 1, 'worrit\\n': 1, 'worrited\\n': 1, 'worriting\\n': 1, 'worrits\\n': 1, 'worry\\n': 1, 'worrying\\n': 1, 'worse\\n': 1, 'worsen\\n': 1, 'worsened\\n': 1, 'worsening\\n': 1, 'worsens\\n': 1, 'worser\\n': 1, 'worses\\n': 1, 'worset\\n': 1, 'worsets\\n': 1, 'worship\\n': 1, 'worshiped\\n': 1, 'worshiper\\n': 1, 'worshipers\\n': 1, 'worshiping\\n': 1, 'worshipped\\n': 1, 'worshipper\\n': 1, 'worshippers\\n': 1, 'worshipping\\n': 1, 'worships\\n': 1, 'worst\\n': 1, 'worsted\\n': 1, 'worsteds\\n': 1, 'worsting\\n': 1, 'worsts\\n': 1, 'wort\\n': 1, 'worth\\n': 1, 'worthed\\n': 1, 'worthful\\n': 1, 'worthier\\n': 1, 'worthies\\n': 1, 'worthiest\\n': 1, 'worthily\\n': 1, 'worthiness\\n': 1, 'worthinesses\\n': 1, 'worthing\\n': 1, 'worthless\\n': 1, 'worthlessness\\n': 1, 'worthlessnesses\\n': 1, 'worths\\n': 1, 'worthwhile\\n': 1, 'worthy\\n': 1, 'worts\\n': 1, 'wos\\n': 1, 'wost\\n': 1, 'wostteth\\n': 1, 'wot\\n': 1, 'wots\\n': 1, 'wotted\\n': 1, 'wotteth\\n': 1, 'wotting\\n': 1, 'would\\n': 1, 'wouldest\\n': 1, 'wouldst\\n': 1, 'wound\\n': 1, 'wounded\\n': 1, 'wounding\\n': 1, 'wounds\\n': 1, 'wove\\n': 1, 'woven\\n': 1, 'wow\\n': 1, 'wowed\\n': 1, 'wowing\\n': 1, 'wows\\n': 1, 'wowser\\n': 1, 'wowsers\\n': 1, 'wrack\\n': 1, 'wracked\\n': 1, 'wrackful\\n': 1, 'wracking\\n': 1, 'wracks\\n': 1, 'wraith\\n': 1, 'wraiths\\n': 1, 'wrang\\n': 1, 'wrangle\\n': 1, 'wrangled\\n': 1, 'wrangler\\n': 1, 'wranglers\\n': 1, 'wrangles\\n': 1, 'wrangling\\n': 1, 'wrangs\\n': 1, 'wrap\\n': 1, 'wrapped\\n': 1, 'wrapper\\n': 1, 'wrappers\\n': 1, 'wrapping\\n': 1, 'wrappings\\n': 1, 'wraps\\n': 1, 'wrapt\\n': 1, 'wrasse\\n': 1, 'wrasses\\n': 1, 'wrastle\\n': 1, 'wrastled\\n': 1, 'wrastles\\n': 1, 'wrastling\\n': 1, 'wrath\\n': 1, 'wrathed\\n': 1, 'wrathful\\n': 1, 'wrathier\\n': 1, 'wrathiest\\n': 1, 'wrathily\\n': 1, 'wrathing\\n': 1, 'wraths\\n': 1, 'wrathy\\n': 1, 'wreak\\n': 1, 'wreaked\\n': 1, 'wreaker\\n': 1, 'wreakers\\n': 1, 'wreaking\\n': 1, 'wreaks\\n': 1, 'wreath\\n': 1, 'wreathe\\n': 1, 'wreathed\\n': 1, 'wreathen\\n': 1, 'wreathes\\n': 1, 'wreathing\\n': 1, 'wreaths\\n': 1, 'wreathy\\n': 1, 'wreck\\n': 1, 'wreckage\\n': 1, 'wreckages\\n': 1, 'wrecked\\n': 1, 'wrecker\\n': 1, 'wreckers\\n': 1, 'wreckful\\n': 1, 'wrecking\\n': 1, 'wreckings\\n': 1, 'wrecks\\n': 1, 'wren\\n': 1, 'wrench\\n': 1, 'wrenched\\n': 1, 'wrenches\\n': 1, 'wrenching\\n': 1, 'wrens\\n': 1, 'wrest\\n': 1, 'wrested\\n': 1, 'wrester\\n': 1, 'wresters\\n': 1, 'wresting\\n': 1, 'wrestle\\n': 1, 'wrestled\\n': 1, 'wrestler\\n': 1, 'wrestlers\\n': 1, 'wrestles\\n': 1, 'wrestling\\n': 1, 'wrests\\n': 1, 'wretch\\n': 1, 'wretched\\n': 1, 'wretcheder\\n': 1, 'wretchedest\\n': 1, 'wretchedness\\n': 1, 'wretchednesses\\n': 1, 'wretches\\n': 1, 'wried\\n': 1, 'wrier\\n': 1, 'wries\\n': 1, 'wriest\\n': 1, 'wriggle\\n': 1, 'wriggled\\n': 1, 'wriggler\\n': 1, 'wrigglers\\n': 1, 'wriggles\\n': 1, 'wrigglier\\n': 1, 'wriggliest\\n': 1, 'wriggling\\n': 1, 'wriggly\\n': 1, 'wright\\n': 1, 'wrights\\n': 1, 'wring\\n': 1, 'wringed\\n': 1, 'wringer\\n': 1, 'wringers\\n': 1, 'wringing\\n': 1, 'wrings\\n': 1, 'wrinkle\\n': 1, 'wrinkled\\n': 1, 'wrinkles\\n': 1, 'wrinklier\\n': 1, 'wrinkliest\\n': 1, 'wrinkling\\n': 1, 'wrinkly\\n': 1, 'wrist\\n': 1, 'wristier\\n': 1, 'wristiest\\n': 1, 'wristlet\\n': 1, 'wristlets\\n': 1, 'wrists\\n': 1, 'wristy\\n': 1, 'writ\\n': 1, 'writable\\n': 1, 'write\\n': 1, 'writer\\n': 1, 'writers\\n': 1, 'writes\\n': 1, 'writhe\\n': 1, 'writhed\\n': 1, 'writhen\\n': 1, 'writher\\n': 1, 'writhers\\n': 1, 'writhes\\n': 1, 'writhing\\n': 1, 'writing\\n': 1, 'writings\\n': 1, 'writs\\n': 1, 'written\\n': 1, 'wrong\\n': 1, 'wrongdoer\\n': 1, 'wrongdoers\\n': 1, 'wrongdoing\\n': 1, 'wrongdoings\\n': 1, 'wronged\\n': 1, 'wronger\\n': 1, 'wrongers\\n': 1, 'wrongest\\n': 1, 'wrongful\\n': 1, 'wrongfully\\n': 1, 'wrongfulness\\n': 1, 'wrongfulnesses\\n': 1, 'wrongheaded\\n': 1, 'wrongheadedly\\n': 1, 'wrongheadedness\\n': 1, 'wrongheadednesses\\n': 1, 'wronging\\n': 1, 'wrongly\\n': 1, 'wrongs\\n': 1, 'wrote\\n': 1, 'wroth\\n': 1, 'wrothful\\n': 1, 'wrought\\n': 1, 'wrung\\n': 1, 'wry\\n': 1, 'wryer\\n': 1, 'wryest\\n': 1, 'wrying\\n': 1, 'wryly\\n': 1, 'wryneck\\n': 1, 'wrynecks\\n': 1, 'wryness\\n': 1, 'wrynesses\\n': 1, 'wud\\n': 1, 'wurst\\n': 1, 'wursts\\n': 1, 'wurzel\\n': 1, 'wurzels\\n': 1, 'wych\\n': 1, 'wyches\\n': 1, 'wye\\n': 1, 'wyes\\n': 1, 'wyle\\n': 1, 'wyled\\n': 1, 'wyles\\n': 1, 'wyling\\n': 1, 'wynd\\n': 1, 'wynds\\n': 1, 'wynn\\n': 1, 'wynns\\n': 1, 'wyte\\n': 1, 'wyted\\n': 1, 'wytes\\n': 1, 'wyting\\n': 1, 'wyvern\\n': 1, 'wyverns\\n': 1, 'xanthate\\n': 1, 'xanthates\\n': 1, 'xanthein\\n': 1, 'xantheins\\n': 1, 'xanthene\\n': 1, 'xanthenes\\n': 1, 'xanthic\\n': 1, 'xanthin\\n': 1, 'xanthine\\n': 1, 'xanthines\\n': 1, 'xanthins\\n': 1, 'xanthoma\\n': 1, 'xanthomas\\n': 1, 'xanthomata\\n': 1, 'xanthone\\n': 1, 'xanthones\\n': 1, 'xanthous\\n': 1, 'xebec\\n': 1, 'xebecs\\n': 1, 'xenia\\n': 1, 'xenial\\n': 1, 'xenias\\n': 1, 'xenic\\n': 1, 'xenogamies\\n': 1, 'xenogamy\\n': 1, 'xenogenies\\n': 1, 'xenogeny\\n': 1, 'xenolith\\n': 1, 'xenoliths\\n': 1, 'xenon\\n': 1, 'xenons\\n': 1, 'xenophobe\\n': 1, 'xenophobes\\n': 1, 'xenophobia\\n': 1, 'xerarch\\n': 1, 'xeric\\n': 1, 'xerosere\\n': 1, 'xeroseres\\n': 1, 'xeroses\\n': 1, 'xerosis\\n': 1, 'xerotic\\n': 1, 'xerus\\n': 1, 'xeruses\\n': 1, 'xi\\n': 1, 'xiphoid\\n': 1, 'xiphoids\\n': 1, 'xis\\n': 1, 'xu\\n': 1, 'xylan\\n': 1, 'xylans\\n': 1, 'xylem\\n': 1, 'xylems\\n': 1, 'xylene\\n': 1, 'xylenes\\n': 1, 'xylic\\n': 1, 'xylidin\\n': 1, 'xylidine\\n': 1, 'xylidines\\n': 1, 'xylidins\\n': 1, 'xylocarp\\n': 1, 'xylocarps\\n': 1, 'xyloid\\n': 1, 'xylol\\n': 1, 'xylols\\n': 1, 'xylophone\\n': 1, 'xylophones\\n': 1, 'xylophonist\\n': 1, 'xylophonists\\n': 1, 'xylose\\n': 1, 'xyloses\\n': 1, 'xylotomies\\n': 1, 'xylotomy\\n': 1, 'xylyl\\n': 1, 'xylyls\\n': 1, 'xyst\\n': 1, 'xyster\\n': 1, 'xysters\\n': 1, 'xysti\\n': 1, 'xystoi\\n': 1, 'xystos\\n': 1, 'xysts\\n': 1, 'xystus\\n': 1, 'ya\\n': 1, 'yabber\\n': 1, 'yabbered\\n': 1, 'yabbering\\n': 1, 'yabbers\\n': 1, 'yacht\\n': 1, 'yachted\\n': 1, 'yachter\\n': 1, 'yachters\\n': 1, 'yachting\\n': 1, 'yachtings\\n': 1, 'yachtman\\n': 1, 'yachtmen\\n': 1, 'yachts\\n': 1, 'yack\\n': 1, 'yacked\\n': 1, 'yacking\\n': 1, 'yacks\\n': 1, 'yaff\\n': 1, 'yaffed\\n': 1, 'yaffing\\n': 1, 'yaffs\\n': 1, 'yager\\n': 1, 'yagers\\n': 1, 'yagi\\n': 1, 'yagis\\n': 1, 'yah\\n': 1, 'yahoo\\n': 1, 'yahooism\\n': 1, 'yahooisms\\n': 1, 'yahoos\\n': 1, 'yaird\\n': 1, 'yairds\\n': 1, 'yak\\n': 1, 'yakked\\n': 1, 'yakking\\n': 1, 'yaks\\n': 1, 'yald\\n': 1, 'yam\\n': 1, 'yamen\\n': 1, 'yamens\\n': 1, 'yammer\\n': 1, 'yammered\\n': 1, 'yammerer\\n': 1, 'yammerers\\n': 1, 'yammering\\n': 1, 'yammers\\n': 1, 'yams\\n': 1, 'yamun\\n': 1, 'yamuns\\n': 1, 'yang\\n': 1, 'yangs\\n': 1, 'yank\\n': 1, 'yanked\\n': 1, 'yanking\\n': 1, 'yanks\\n': 1, 'yanqui\\n': 1, 'yanquis\\n': 1, 'yap\\n': 1, 'yapock\\n': 1, 'yapocks\\n': 1, 'yapok\\n': 1, 'yapoks\\n': 1, 'yapon\\n': 1, 'yapons\\n': 1, 'yapped\\n': 1, 'yapper\\n': 1, 'yappers\\n': 1, 'yapping\\n': 1, 'yappy\\n': 1, 'yaps\\n': 1, 'yar\\n': 1, 'yard\\n': 1, 'yardage\\n': 1, 'yardages\\n': 1, 'yardarm\\n': 1, 'yardarms\\n': 1, 'yardbird\\n': 1, 'yardbirds\\n': 1, 'yarded\\n': 1, 'yarding\\n': 1, 'yardman\\n': 1, 'yardmen\\n': 1, 'yards\\n': 1, 'yardstick\\n': 1, 'yardsticks\\n': 1, 'yardwand\\n': 1, 'yardwands\\n': 1, 'yare\\n': 1, 'yarely\\n': 1, 'yarer\\n': 1, 'yarest\\n': 1, 'yarmelke\\n': 1, 'yarmelkes\\n': 1, 'yarmulke\\n': 1, 'yarmulkes\\n': 1, 'yarn\\n': 1, 'yarned\\n': 1, 'yarning\\n': 1, 'yarns\\n': 1, 'yarrow\\n': 1, 'yarrows\\n': 1, 'yashmac\\n': 1, 'yashmacs\\n': 1, 'yashmak\\n': 1, 'yashmaks\\n': 1, 'yasmak\\n': 1, 'yasmaks\\n': 1, 'yatagan\\n': 1, 'yatagans\\n': 1, 'yataghan\\n': 1, 'yataghans\\n': 1, 'yaud\\n': 1, 'yauds\\n': 1, 'yauld\\n': 1, 'yaup\\n': 1, 'yauped\\n': 1, 'yauper\\n': 1, 'yaupers\\n': 1, 'yauping\\n': 1, 'yaupon\\n': 1, 'yaupons\\n': 1, 'yaups\\n': 1, 'yaw\\n': 1, 'yawed\\n': 1, 'yawing\\n': 1, 'yawl\\n': 1, 'yawled\\n': 1, 'yawling\\n': 1, 'yawls\\n': 1, 'yawmeter\\n': 1, 'yawmeters\\n': 1, 'yawn\\n': 1, 'yawned\\n': 1, 'yawner\\n': 1, 'yawners\\n': 1, 'yawning\\n': 1, 'yawns\\n': 1, 'yawp\\n': 1, 'yawped\\n': 1, 'yawper\\n': 1, 'yawpers\\n': 1, 'yawping\\n': 1, 'yawpings\\n': 1, 'yawps\\n': 1, 'yaws\\n': 1, 'yay\\n': 1, 'ycleped\\n': 1, 'yclept\\n': 1, 'ye\\n': 1, 'yea\\n': 1, 'yeah\\n': 1, 'yealing\\n': 1, 'yealings\\n': 1, 'yean\\n': 1, 'yeaned\\n': 1, 'yeaning\\n': 1, 'yeanling\\n': 1, 'yeanlings\\n': 1, 'yeans\\n': 1, 'year\\n': 1, 'yearbook\\n': 1, 'yearbooks\\n': 1, 'yearlies\\n': 1, 'yearling\\n': 1, 'yearlings\\n': 1, 'yearlong\\n': 1, 'yearly\\n': 1, 'yearn\\n': 1, 'yearned\\n': 1, 'yearner\\n': 1, 'yearners\\n': 1, 'yearning\\n': 1, 'yearnings\\n': 1, 'yearns\\n': 1, 'years\\n': 1, 'yeas\\n': 1, 'yeast\\n': 1, 'yeasted\\n': 1, 'yeastier\\n': 1, 'yeastiest\\n': 1, 'yeastily\\n': 1, 'yeasting\\n': 1, 'yeasts\\n': 1, 'yeasty\\n': 1, 'yeelin\\n': 1, 'yeelins\\n': 1, 'yegg\\n': 1, 'yeggman\\n': 1, 'yeggmen\\n': 1, 'yeggs\\n': 1, 'yeh\\n': 1, 'yeld\\n': 1, 'yelk\\n': 1, 'yelks\\n': 1, 'yell\\n': 1, 'yelled\\n': 1, 'yeller\\n': 1, 'yellers\\n': 1, 'yelling\\n': 1, 'yellow\\n': 1, 'yellowed\\n': 1, 'yellower\\n': 1, 'yellowest\\n': 1, 'yellowing\\n': 1, 'yellowly\\n': 1, 'yellows\\n': 1, 'yellowy\\n': 1, 'yells\\n': 1, 'yelp\\n': 1, 'yelped\\n': 1, 'yelper\\n': 1, 'yelpers\\n': 1, 'yelping\\n': 1, 'yelps\\n': 1, 'yen\\n': 1, 'yenned\\n': 1, 'yenning\\n': 1, 'yens\\n': 1, 'yenta\\n': 1, 'yentas\\n': 1, 'yeoman\\n': 1, 'yeomanly\\n': 1, 'yeomanries\\n': 1, 'yeomanry\\n': 1, 'yeomen\\n': 1, 'yep\\n': 1, 'yerba\\n': 1, 'yerbas\\n': 1, 'yerk\\n': 1, 'yerked\\n': 1, 'yerking\\n': 1, 'yerks\\n': 1, 'yes\\n': 1, 'yeses\\n': 1, 'yeshiva\\n': 1, 'yeshivah\\n': 1, 'yeshivahs\\n': 1, 'yeshivas\\n': 1, 'yeshivoth\\n': 1, 'yessed\\n': 1, 'yesses\\n': 1, 'yessing\\n': 1, 'yester\\n': 1, 'yesterday\\n': 1, 'yesterdays\\n': 1, 'yestern\\n': 1, 'yestreen\\n': 1, 'yestreens\\n': 1, 'yet\\n': 1, 'yeti\\n': 1, 'yetis\\n': 1, 'yett\\n': 1, 'yetts\\n': 1, 'yeuk\\n': 1, 'yeuked\\n': 1, 'yeuking\\n': 1, 'yeuks\\n': 1, 'yeuky\\n': 1, 'yew\\n': 1, 'yews\\n': 1, 'yid\\n': 1, 'yids\\n': 1, 'yield\\n': 1, 'yielded\\n': 1, 'yielder\\n': 1, 'yielders\\n': 1, 'yielding\\n': 1, 'yields\\n': 1, 'yill\\n': 1, 'yills\\n': 1, 'yin\\n': 1, 'yince\\n': 1, 'yins\\n': 1, 'yip\\n': 1, 'yipe\\n': 1, 'yipes\\n': 1, 'yipped\\n': 1, 'yippee\\n': 1, 'yippie\\n': 1, 'yippies\\n': 1, 'yipping\\n': 1, 'yips\\n': 1, 'yird\\n': 1, 'yirds\\n': 1, 'yirr\\n': 1, 'yirred\\n': 1, 'yirring\\n': 1, 'yirrs\\n': 1, 'yirth\\n': 1, 'yirths\\n': 1, 'yod\\n': 1, 'yodel\\n': 1, 'yodeled\\n': 1, 'yodeler\\n': 1, 'yodelers\\n': 1, 'yodeling\\n': 1, 'yodelled\\n': 1, 'yodeller\\n': 1, 'yodellers\\n': 1, 'yodelling\\n': 1, 'yodels\\n': 1, 'yodh\\n': 1, 'yodhs\\n': 1, 'yodle\\n': 1, 'yodled\\n': 1, 'yodler\\n': 1, 'yodlers\\n': 1, 'yodles\\n': 1, 'yodling\\n': 1, 'yods\\n': 1, 'yoga\\n': 1, 'yogas\\n': 1, 'yogee\\n': 1, 'yogees\\n': 1, 'yogh\\n': 1, 'yoghourt\\n': 1, 'yoghourts\\n': 1, 'yoghs\\n': 1, 'yoghurt\\n': 1, 'yoghurts\\n': 1, 'yogi\\n': 1, 'yogic\\n': 1, 'yogin\\n': 1, 'yogini\\n': 1, 'yoginis\\n': 1, 'yogins\\n': 1, 'yogis\\n': 1, 'yogurt\\n': 1, 'yogurts\\n': 1, 'yoicks\\n': 1, 'yoke\\n': 1, 'yoked\\n': 1, 'yokel\\n': 1, 'yokeless\\n': 1, 'yokelish\\n': 1, 'yokels\\n': 1, 'yokemate\\n': 1, 'yokemates\\n': 1, 'yokes\\n': 1, 'yoking\\n': 1, 'yolk\\n': 1, 'yolked\\n': 1, 'yolkier\\n': 1, 'yolkiest\\n': 1, 'yolks\\n': 1, 'yolky\\n': 1, 'yom\\n': 1, 'yomim\\n': 1, 'yon\\n': 1, 'yond\\n': 1, 'yonder\\n': 1, 'yoni\\n': 1, 'yonis\\n': 1, 'yonker\\n': 1, 'yonkers\\n': 1, 'yore\\n': 1, 'yores\\n': 1, 'you\\n': 1, 'young\\n': 1, 'younger\\n': 1, 'youngers\\n': 1, 'youngest\\n': 1, 'youngish\\n': 1, 'youngs\\n': 1, 'youngster\\n': 1, 'youngsters\\n': 1, 'younker\\n': 1, 'younkers\\n': 1, 'youpon\\n': 1, 'youpons\\n': 1, 'your\\n': 1, 'yourn\\n': 1, 'yours\\n': 1, 'yourself\\n': 1, 'yourselves\\n': 1, 'youse\\n': 1, 'youth\\n': 1, 'youthen\\n': 1, 'youthened\\n': 1, 'youthening\\n': 1, 'youthens\\n': 1, 'youthful\\n': 1, 'youthfully\\n': 1, 'youthfulness\\n': 1, 'youthfulnesses\\n': 1, 'youths\\n': 1, 'yow\\n': 1, 'yowe\\n': 1, 'yowed\\n': 1, 'yowes\\n': 1, 'yowie\\n': 1, 'yowies\\n': 1, 'yowing\\n': 1, 'yowl\\n': 1, 'yowled\\n': 1, 'yowler\\n': 1, 'yowlers\\n': 1, 'yowling\\n': 1, 'yowls\\n': 1, 'yows\\n': 1, 'yperite\\n': 1, 'yperites\\n': 1, 'ytterbia\\n': 1, 'ytterbias\\n': 1, 'ytterbic\\n': 1, 'yttria\\n': 1, 'yttrias\\n': 1, 'yttric\\n': 1, 'yttrium\\n': 1, 'yttriums\\n': 1, 'yuan\\n': 1, 'yuans\\n': 1, 'yucca\\n': 1, 'yuccas\\n': 1, 'yuga\\n': 1, 'yugas\\n': 1, 'yuk\\n': 1, 'yukked\\n': 1, 'yukking\\n': 1, 'yuks\\n': 1, 'yulan\\n': 1, 'yulans\\n': 1, 'yule\\n': 1, 'yules\\n': 1, 'yuletide\\n': 1, 'yuletides\\n': 1, 'yummier\\n': 1, 'yummies\\n': 1, 'yummiest\\n': 1, 'yummy\\n': 1, 'yup\\n': 1, 'yupon\\n': 1, 'yupons\\n': 1, 'yurt\\n': 1, 'yurta\\n': 1, 'yurts\\n': 1, 'ywis\\n': 1, 'zabaione\\n': 1, 'zabaiones\\n': 1, 'zabajone\\n': 1, 'zabajones\\n': 1, 'zacaton\\n': 1, 'zacatons\\n': 1, 'zaddik\\n': 1, 'zaddikim\\n': 1, 'zaffar\\n': 1, 'zaffars\\n': 1, 'zaffer\\n': 1, 'zaffers\\n': 1, 'zaffir\\n': 1, 'zaffirs\\n': 1, 'zaffre\\n': 1, 'zaffres\\n': 1, 'zaftig\\n': 1, 'zag\\n': 1, 'zagged\\n': 1, 'zagging\\n': 1, 'zags\\n': 1, 'zaibatsu\\n': 1, 'zaire\\n': 1, 'zaires\\n': 1, 'zamarra\\n': 1, 'zamarras\\n': 1, 'zamarro\\n': 1, 'zamarros\\n': 1, 'zamia\\n': 1, 'zamias\\n': 1, 'zamindar\\n': 1, 'zamindars\\n': 1, 'zanana\\n': 1, 'zananas\\n': 1, 'zander\\n': 1, 'zanders\\n': 1, 'zanier\\n': 1, 'zanies\\n': 1, 'zaniest\\n': 1, 'zanily\\n': 1, 'zaniness\\n': 1, 'zaninesses\\n': 1, 'zany\\n': 1, 'zanyish\\n': 1, 'zanza\\n': 1, 'zanzas\\n': 1, 'zap\\n': 1, 'zapateo\\n': 1, 'zapateos\\n': 1, 'zapped\\n': 1, 'zapping\\n': 1, 'zaps\\n': 1, 'zaptiah\\n': 1, 'zaptiahs\\n': 1, 'zaptieh\\n': 1, 'zaptiehs\\n': 1, 'zaratite\\n': 1, 'zaratites\\n': 1, 'zareba\\n': 1, 'zarebas\\n': 1, 'zareeba\\n': 1, 'zareebas\\n': 1, 'zarf\\n': 1, 'zarfs\\n': 1, 'zariba\\n': 1, 'zaribas\\n': 1, 'zarzuela\\n': 1, 'zarzuelas\\n': 1, 'zastruga\\n': 1, 'zastrugi\\n': 1, 'zax\\n': 1, 'zaxes\\n': 1, 'zayin\\n': 1, 'zayins\\n': 1, 'zeal\\n': 1, 'zealot\\n': 1, 'zealotries\\n': 1, 'zealotry\\n': 1, 'zealots\\n': 1, 'zealous\\n': 1, 'zealously\\n': 1, 'zealousness\\n': 1, 'zealousnesses\\n': 1, 'zeals\\n': 1, 'zeatin\\n': 1, 'zeatins\\n': 1, 'zebec\\n': 1, 'zebeck\\n': 1, 'zebecks\\n': 1, 'zebecs\\n': 1, 'zebra\\n': 1, 'zebraic\\n': 1, 'zebras\\n': 1, 'zebrass\\n': 1, 'zebrasses\\n': 1, 'zebrine\\n': 1, 'zebroid\\n': 1, 'zebu\\n': 1, 'zebus\\n': 1, 'zecchin\\n': 1, 'zecchini\\n': 1, 'zecchino\\n': 1, 'zecchinos\\n': 1, 'zecchins\\n': 1, 'zechin\\n': 1, 'zechins\\n': 1, 'zed\\n': 1, 'zedoaries\\n': 1, 'zedoary\\n': 1, 'zeds\\n': 1, 'zee\\n': 1, 'zees\\n': 1, 'zein\\n': 1, 'zeins\\n': 1, 'zeitgeist\\n': 1, 'zeitgeists\\n': 1, 'zelkova\\n': 1, 'zelkovas\\n': 1, 'zemindar\\n': 1, 'zemindars\\n': 1, 'zemstvo\\n': 1, 'zemstvos\\n': 1, 'zenana\\n': 1, 'zenanas\\n': 1, 'zenith\\n': 1, 'zenithal\\n': 1, 'zeniths\\n': 1, 'zeolite\\n': 1, 'zeolites\\n': 1, 'zeolitic\\n': 1, 'zephyr\\n': 1, 'zephyrs\\n': 1, 'zeppelin\\n': 1, 'zeppelins\\n': 1, 'zero\\n': 1, 'zeroed\\n': 1, 'zeroes\\n': 1, 'zeroing\\n': 1, 'zeros\\n': 1, 'zest\\n': 1, 'zested\\n': 1, 'zestful\\n': 1, 'zestfully\\n': 1, 'zestfulness\\n': 1, 'zestfulnesses\\n': 1, 'zestier\\n': 1, 'zestiest\\n': 1, 'zesting\\n': 1, 'zests\\n': 1, 'zesty\\n': 1, 'zeta\\n': 1, 'zetas\\n': 1, 'zeugma\\n': 1, 'zeugmas\\n': 1, 'zibeline\\n': 1, 'zibelines\\n': 1, 'zibet\\n': 1, 'zibeth\\n': 1, 'zibeths\\n': 1, 'zibets\\n': 1, 'zig\\n': 1, 'zigged\\n': 1, 'zigging\\n': 1, 'ziggurat\\n': 1, 'ziggurats\\n': 1, 'zigs\\n': 1, 'zigzag\\n': 1, 'zigzagged\\n': 1, 'zigzagging\\n': 1, 'zigzags\\n': 1, 'zikkurat\\n': 1, 'zikkurats\\n': 1, 'zikurat\\n': 1, 'zikurats\\n': 1, 'zilch\\n': 1, 'zilches\\n': 1, 'zillah\\n': 1, 'zillahs\\n': 1, 'zillion\\n': 1, 'zillions\\n': 1, 'zinc\\n': 1, 'zincate\\n': 1, 'zincates\\n': 1, 'zinced\\n': 1, 'zincic\\n': 1, 'zincified\\n': 1, 'zincifies\\n': 1, 'zincify\\n': 1, 'zincifying\\n': 1, 'zincing\\n': 1, 'zincite\\n': 1, 'zincites\\n': 1, 'zincked\\n': 1, 'zincking\\n': 1, 'zincky\\n': 1, 'zincoid\\n': 1, 'zincous\\n': 1, 'zincs\\n': 1, 'zincy\\n': 1, 'zing\\n': 1, 'zingani\\n': 1, 'zingano\\n': 1, 'zingara\\n': 1, 'zingare\\n': 1, 'zingari\\n': 1, 'zingaro\\n': 1, 'zinged\\n': 1, 'zingier\\n': 1, 'zingiest\\n': 1, 'zinging\\n': 1, 'zings\\n': 1, 'zingy\\n': 1, 'zinkified\\n': 1, 'zinkifies\\n': 1, 'zinkify\\n': 1, 'zinkifying\\n': 1, 'zinky\\n': 1, 'zinnia\\n': 1, 'zinnias\\n': 1, 'zip\\n': 1, 'zipped\\n': 1, 'zipper\\n': 1, 'zippered\\n': 1, 'zippering\\n': 1, 'zippers\\n': 1, 'zippier\\n': 1, 'zippiest\\n': 1, 'zipping\\n': 1, 'zippy\\n': 1, 'zips\\n': 1, 'ziram\\n': 1, 'zirams\\n': 1, 'zircon\\n': 1, 'zirconia\\n': 1, 'zirconias\\n': 1, 'zirconic\\n': 1, 'zirconium\\n': 1, 'zirconiums\\n': 1, 'zircons\\n': 1, 'zither\\n': 1, 'zithern\\n': 1, 'zitherns\\n': 1, 'zithers\\n': 1, 'ziti\\n': 1, 'zitis\\n': 1, 'zizith\\n': 1, 'zizzle\\n': 1, 'zizzled\\n': 1, 'zizzles\\n': 1, 'zizzling\\n': 1, 'zloty\\n': 1, 'zlotys\\n': 1, 'zoa\\n': 1, 'zoaria\\n': 1, 'zoarial\\n': 1, 'zoarium\\n': 1, 'zodiac\\n': 1, 'zodiacal\\n': 1, 'zodiacs\\n': 1, 'zoea\\n': 1, 'zoeae\\n': 1, 'zoeal\\n': 1, 'zoeas\\n': 1, 'zoftig\\n': 1, 'zoic\\n': 1, 'zoisite\\n': 1, 'zoisites\\n': 1, 'zombi\\n': 1, 'zombie\\n': 1, 'zombies\\n': 1, 'zombiism\\n': 1, 'zombiisms\\n': 1, 'zombis\\n': 1, 'zonal\\n': 1, 'zonally\\n': 1, 'zonary\\n': 1, 'zonate\\n': 1, 'zonated\\n': 1, 'zonation\\n': 1, 'zonations\\n': 1, 'zone\\n': 1, 'zoned\\n': 1, 'zoneless\\n': 1, 'zoner\\n': 1, 'zoners\\n': 1, 'zones\\n': 1, 'zonetime\\n': 1, 'zonetimes\\n': 1, 'zoning\\n': 1, 'zonked\\n': 1, 'zonula\\n': 1, 'zonulae\\n': 1, 'zonular\\n': 1, 'zonulas\\n': 1, 'zonule\\n': 1, 'zonules\\n': 1, 'zoo\\n': 1, 'zoochore\\n': 1, 'zoochores\\n': 1, 'zoogenic\\n': 1, 'zooglea\\n': 1, 'zoogleae\\n': 1, 'zoogleal\\n': 1, 'zoogleas\\n': 1, 'zoogloea\\n': 1, 'zoogloeae\\n': 1, 'zoogloeas\\n': 1, 'zooid\\n': 1, 'zooidal\\n': 1, 'zooids\\n': 1, 'zooks\\n': 1, 'zoolater\\n': 1, 'zoolaters\\n': 1, 'zoolatries\\n': 1, 'zoolatry\\n': 1, 'zoologic\\n': 1, 'zoological\\n': 1, 'zoologies\\n': 1, 'zoologist\\n': 1, 'zoologists\\n': 1, 'zoology\\n': 1, 'zoom\\n': 1, 'zoomania\\n': 1, 'zoomanias\\n': 1, 'zoomed\\n': 1, 'zoometries\\n': 1, 'zoometry\\n': 1, 'zooming\\n': 1, 'zoomorph\\n': 1, 'zoomorphs\\n': 1, 'zooms\\n': 1, 'zoon\\n': 1, 'zoonal\\n': 1, 'zoonoses\\n': 1, 'zoonosis\\n': 1, 'zoonotic\\n': 1, 'zoons\\n': 1, 'zoophile\\n': 1, 'zoophiles\\n': 1, 'zoophyte\\n': 1, 'zoophytes\\n': 1, 'zoos\\n': 1, 'zoosperm\\n': 1, 'zoosperms\\n': 1, 'zoospore\\n': 1, 'zoospores\\n': 1, 'zootomic\\n': 1, 'zootomies\\n': 1, 'zootomy\\n': 1, 'zori\\n': 1, 'zoril\\n': 1, 'zorilla\\n': 1, 'zorillas\\n': 1, 'zorille\\n': 1, 'zorilles\\n': 1, 'zorillo\\n': 1, 'zorillos\\n': 1, 'zorils\\n': 1, 'zoster\\n': 1, 'zosters\\n': 1, 'zouave\\n': 1, 'zouaves\\n': 1, 'zounds\\n': 1, 'zowie\\n': 1, 'zoysia\\n': 1, 'zoysias\\n': 1, 'zucchini\\n': 1, 'zucchinis\\n': 1, 'zwieback\\n': 1, 'zwiebacks\\n': 1, 'zygoma\\n': 1, 'zygomas\\n': 1, 'zygomata\\n': 1, 'zygose\\n': 1, 'zygoses\\n': 1, 'zygosis\\n': 1, 'zygosities\\n': 1, 'zygosity\\n': 1, 'zygote\\n': 1, 'zygotene\\n': 1, 'zygotenes\\n': 1, 'zygotes\\n': 1, 'zygotic\\n': 1, 'zymase\\n': 1, 'zymases\\n': 1, 'zyme\\n': 1, 'zymes\\n': 1, 'zymogen\\n': 1, 'zymogene\\n': 1, 'zymogenes\\n': 1, 'zymogens\\n': 1, 'zymologies\\n': 1, 'zymology\\n': 1, 'zymoses\\n': 1, 'zymosis\\n': 1, 'zymotic\\n': 1, 'zymurgies\\n': 1, 'zymurgy\\n': 1}\n"
    }
   ],
   "source": [
    "#question 1\n",
    "def anagram():\n",
    "  var_file = open(\"words.txt\")\n",
    "  my_file= dict()\n",
    "  for lines in var_file:\n",
    "      if lines in my_file:\n",
    "        my_file[lines]= my_file[lines]+1\n",
    "      else:\n",
    "        my_file[lines]= 1\n",
    "  return my_file\n",
    "\n",
    "print(anagram())"
   ]
  },
  {
   "cell_type": "code",
   "execution_count": 2,
   "metadata": {},
   "outputs": [
    {
     "output_type": "stream",
     "name": "stdout",
     "text": "True\n"
    }
   ],
   "source": [
    "#question 2-1\n",
    "def has_duplicate(list):\n",
    "    list.sort()\n",
    "    var1=0\n",
    "    for i in range(len(list)):\n",
    "        if list[i]== var1:\n",
    "            return True\n",
    "        else:\n",
    "            var1=list[i]            \n",
    "    return False\n",
    "   \n",
    "list1 = [10,20,40,30,40,50]\n",
    "print(has_duplicate(list1))"
   ]
  },
  {
   "cell_type": "code",
   "execution_count": 6,
   "metadata": {},
   "outputs": [
    {
     "output_type": "stream",
     "name": "stdout",
     "text": "True\n[13, 24, 31, 40, 46, 69, 102, 124, 145, 152, 165, 169, 196, 230, 246, 269, 276, 289, 305, 305, 324, 327, 365]\n"
    }
   ],
   "source": [
    "#question 2-2\n",
    "import random\n",
    "list1=[]\n",
    "for num in range(23):\n",
    "    temp= random.randint(1,365)\n",
    "    list1.append(temp)\n",
    "list1.sort()\n",
    "var1=0\n",
    "for i in range(len(list1)):\n",
    "  if list1[i] == var1:\n",
    "    print(\"True\")\n",
    "  else:\n",
    "    var1=list1[i]\n",
    "\n",
    "print(list1)"
   ]
  },
  {
   "cell_type": "code",
   "execution_count": 7,
   "metadata": {},
   "outputs": [
    {
     "output_type": "stream",
     "name": "stdout",
     "text": "[1, 3, 6, 10, 15, 21, 28, 36, 45, 55]\n"
    }
   ],
   "source": [
    "#question 3\n",
    "def list1(num):\n",
    "    new = []\n",
    "    total= 0\n",
    "    for i in num:\n",
    "        total += i\n",
    "        new.append(total)\n",
    "    print (new)\n",
    "\n",
    "\n",
    "num = [1,2,3,4,5,6,7,8,9,10]\n",
    "list1(num)"
   ]
  },
  {
   "cell_type": "code",
   "execution_count": null,
   "metadata": {},
   "outputs": [],
   "source": []
  }
 ],
 "metadata": {
  "language_info": {
   "codemirror_mode": {
    "name": "ipython",
    "version": 3
   },
   "file_extension": ".py",
   "mimetype": "text/x-python",
   "name": "python",
   "nbconvert_exporter": "python",
   "pygments_lexer": "ipython3",
   "version": "3.8.2-final"
  },
  "orig_nbformat": 2,
  "kernelspec": {
   "name": "python38264bit0dacd31b27e9476b8f2aa13845119ee8",
   "display_name": "Python 3.8.2 64-bit"
  }
 },
 "nbformat": 4,
 "nbformat_minor": 2
}