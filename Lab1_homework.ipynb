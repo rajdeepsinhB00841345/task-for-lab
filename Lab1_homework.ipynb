{
  "nbformat": 4,
  "nbformat_minor": 0,
  "metadata": {
    "kernelspec": {
      "display_name": "Python 3",
      "language": "python",
      "name": "python3"
    },
    "language_info": {
      "codemirror_mode": {
        "name": "ipython",
        "version": 3
      },
      "file_extension": ".py",
      "mimetype": "text/x-python",
      "name": "python",
      "nbconvert_exporter": "python",
      "pygments_lexer": "ipython3",
      "version": "3.7.6"
    },
    "colab": {
      "name": "Lab1_homework.ipynb",
      "provenance": [],
      "collapsed_sections": []
    }
  },
  "cells": [
    {
      "cell_type": "code",
      "metadata": {
        "id": "xqZxLhPbTrm_",
        "colab_type": "code",
        "colab": {
          "base_uri": "https://localhost:8080/",
          "height": 34
        },
        "outputId": "0ba817ad-d966-41a5-950f-7af6344b0f3c"
      },
      "source": [
        "#Question 1 part 1\n",
        "def is_triangle(val1,val2,val3):\n",
        "  temp1 = val1 + val2\n",
        "  temp2 = val1 + val3\n",
        "  temp3 = val2 + val3\n",
        "  if((temp1 <= val3) or (temp2 <= val2) or (temp3 <= val1)):\n",
        "    print(\"NO\")\n",
        "  else:\n",
        "    print(\"YES\")\n",
        "\n",
        "is_triangle(3,4,5)"
      ],
      "execution_count": 2,
      "outputs": [
        {
          "output_type": "stream",
          "text": [
            "YES\n"
          ],
          "name": "stdout"
        }
      ]
    },
    {
      "cell_type": "code",
      "metadata": {
        "id": "3nnMJD7JTrnI",
        "colab_type": "code",
        "colab": {
          "base_uri": "https://localhost:8080/",
          "height": 85
        },
        "outputId": "92a57fb4-d051-443b-c78b-5ed7ff49fe69"
      },
      "source": [
        "#Question 1 part 2\n",
        "def is_triangle():\n",
        "  x = int(input(\"Enter the first side: \"))\n",
        "  y = int(input(\"Enter the second side: \"))\n",
        "  z = int(input(\"Enter the third side: \"))\n",
        "  if((x + y <= z) or (x + z <= y) or (y + z <= x)):\n",
        "    return \"It cannot be a triangle\"\n",
        "  else:\n",
        "    return \"triangle\"\n",
        "\n",
        "print(is_triangle())"
      ],
      "execution_count": 3,
      "outputs": [
        {
          "output_type": "stream",
          "text": [
            "Enter the first side: 12\n",
            "Enter the second side: 20\n",
            "Enter the third side: 15\n",
            "triangle\n"
          ],
          "name": "stdout"
        }
      ]
    },
    {
      "cell_type": "code",
      "metadata": {
        "id": "d-unK2XoTrnN",
        "colab_type": "code",
        "colab": {
          "base_uri": "https://localhost:8080/",
          "height": 68
        },
        "outputId": "11a0676c-6436-40b7-b850-0a175e3ab8b7"
      },
      "source": [
        "#Question 2 part 1\n",
        "def first(word):\n",
        "  return word[0]\n",
        "\n",
        "def last(word):\n",
        "  return word[-1]\n",
        "\n",
        "def middle(word):\n",
        "  return word[1:-1]\n",
        "\n",
        "print(middle(\"AA\"))\n",
        "print(middle(\"A\"))\n",
        "print(middle(\"\"))\n"
      ],
      "execution_count": 4,
      "outputs": [
        {
          "output_type": "stream",
          "text": [
            "\n",
            "\n",
            "\n"
          ],
          "name": "stdout"
        }
      ]
    },
    {
      "cell_type": "code",
      "metadata": {
        "id": "PpBIoxapTrnR",
        "colab_type": "code",
        "colab": {
          "base_uri": "https://localhost:8080/",
          "height": 51
        },
        "outputId": "c4307096-372a-4bf7-9c56-ef253c3a243a"
      },
      "source": [
        "#Question 2 part 2\n",
        "def is_palindrome(word):\n",
        "  for count in range(len(word)):\n",
        "    if(word[count] != word[len(word) - 1 - count]):\n",
        "      return False\n",
        "    else:\n",
        "      return True\n",
        "  \n",
        "word = input(\"Enter a word: \")\n",
        "print(is_palindrome(word))"
      ],
      "execution_count": 5,
      "outputs": [
        {
          "output_type": "stream",
          "text": [
            "Enter a word: asdfdsa\n",
            "True\n"
          ],
          "name": "stdout"
        }
      ]
    }
  ]
}